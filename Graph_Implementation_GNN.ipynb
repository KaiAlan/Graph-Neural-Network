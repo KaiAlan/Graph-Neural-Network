{
  "nbformat": 4,
  "nbformat_minor": 0,
  "metadata": {
    "colab": {
      "provenance": [],
      "authorship_tag": "ABX9TyNzOU+AVXcXtnDrWQdf3QZo",
      "include_colab_link": true
    },
    "kernelspec": {
      "name": "python3",
      "display_name": "Python 3"
    },
    "language_info": {
      "name": "python"
    }
  },
  "cells": [
    {
      "cell_type": "markdown",
      "metadata": {
        "id": "view-in-github",
        "colab_type": "text"
      },
      "source": [
        "<a href=\"https://colab.research.google.com/github/KaiAlan/ML_Notebooks/blob/Ml_tryl/Graph_Implementation_GNN.ipynb\" target=\"_parent\"><img src=\"https://colab.research.google.com/assets/colab-badge.svg\" alt=\"Open In Colab\"/></a>"
      ]
    },
    {
      "cell_type": "code",
      "execution_count": null,
      "metadata": {
        "id": "2WGKshkbd3sO"
      },
      "outputs": [],
      "source": [
        "import networkx as nx"
      ]
    },
    {
      "cell_type": "code",
      "source": [
        "import matplotlib.pyplot as plt"
      ],
      "metadata": {
        "id": "VodZKViueHqW"
      },
      "execution_count": null,
      "outputs": []
    },
    {
      "cell_type": "code",
      "source": [
        "G = nx.Graph()\n",
        "G.add_edge(1, 2)\n",
        "G.add_edge(3, 2)\n",
        "# Addint it later\n",
        "G.add_edge(3, 3)\n",
        "nx.draw(G, cmap=plt.get_cmap('viridis'), node_color=G, with_labels=True,)\n",
        "print(nx.is_weighted(G))\n",
        "print(nx.is_directed(G))"
      ],
      "metadata": {
        "colab": {
          "base_uri": "https://localhost:8080/",
          "height": 354
        },
        "id": "3noWYCUaeQ6m",
        "outputId": "a53a75c3-ff74-43b1-a8bd-8aeb4d86f25a"
      },
      "execution_count": null,
      "outputs": [
        {
          "output_type": "stream",
          "name": "stdout",
          "text": [
            "False\n",
            "False\n"
          ]
        },
        {
          "output_type": "display_data",
          "data": {
            "text/plain": [
              "<Figure size 432x288 with 1 Axes>"
            ],
            "image/png": "[encoded data removed]"
          },
          "metadata": {}
        }
      ]
    },
    {
      "cell_type": "code",
      "source": [
        "nx.to_numpy_matrix(G)"
      ],
      "metadata": {
        "colab": {
          "base_uri": "https://localhost:8080/"
        },
        "id": "x3kVk-aTfVtr",
        "outputId": "d8e47c11-29ce-4ba2-880e-35d760b32cc5"
      },
      "execution_count": null,
      "outputs": [
        {
          "output_type": "execute_result",
          "data": {
            "text/plain": [
              "matrix([[0., 1., 0.],\n",
              "        [1., 0., 1.],\n",
              "        [0., 1., 1.]])"
            ]
          },
          "metadata": {},
          "execution_count": 7
        }
      ]
    },
    {
      "cell_type": "code",
      "source": [
        "G = nx.Graph()\n",
        "G.add_edge(1, 2, weight = 1)\n",
        "G.add_edge(3, 2, weight = 5)\n",
        "#Adding it later\n",
        "G.add_edge(3,3, weight = 3)\n",
        "G.add_edge(2,2, weight = 6)\n",
        "G.add_edge(1,1, weight = 9)\n",
        "nx.draw(G, cmap=plt.get_cmap('viridis'), node_color=G, with_labels=True)\n",
        "print(nx.is_weighted(G))\n",
        "print(nx.is_directed(G))"
      ],
      "metadata": {
        "colab": {
          "base_uri": "https://localhost:8080/",
          "height": 354
        },
        "id": "vFCoBXrCfccf",
        "outputId": "cfd3ebdb-7799-4ab7-a41a-97f6170c744e"
      },
      "execution_count": null,
      "outputs": [
        {
          "output_type": "stream",
          "name": "stdout",
          "text": [
            "True\n",
            "False\n"
          ]
        },
        {
          "output_type": "display_data",
          "data": {
            "text/plain": [
              "<Figure size 432x288 with 1 Axes>"
            ],
            "image/png": "[encoded data removed]"
          },
          "metadata": {}
        }
      ]
    },
    {
      "cell_type": "code",
      "source": [
        "nx.to_numpy_matrix(G)"
      ],
      "metadata": {
        "colab": {
          "base_uri": "https://localhost:8080/"
        },
        "id": "g-OLocA9gyt_",
        "outputId": "1afc6a42-9cb4-4523-c099-812c7aa8f265"
      },
      "execution_count": null,
      "outputs": [
        {
          "output_type": "execute_result",
          "data": {
            "text/plain": [
              "matrix([[1., 1., 0.],\n",
              "        [1., 1., 5.],\n",
              "        [0., 5., 1.]])"
            ]
          },
          "metadata": {},
          "execution_count": 22
        }
      ]
    },
    {
      "cell_type": "code",
      "source": [
        "nx.to_numpy_matrix(G)"
      ],
      "metadata": {
        "colab": {
          "base_uri": "https://localhost:8080/"
        },
        "id": "d1HWZ-7Qg3ty",
        "outputId": "3d6bd6f0-74fd-4fb7-9e75-0a670fa0dba5"
      },
      "execution_count": null,
      "outputs": [
        {
          "output_type": "execute_result",
          "data": {
            "text/plain": [
              "matrix([[9., 1., 0.],\n",
              "        [1., 6., 5.],\n",
              "        [0., 5., 3.]])"
            ]
          },
          "metadata": {},
          "execution_count": 52
        }
      ]
    },
    {
      "cell_type": "code",
      "source": [
        "I = nx.incidence_matrix(G)"
      ],
      "metadata": {
        "id": "10O9OFQDg79c"
      },
      "execution_count": null,
      "outputs": []
    },
    {
      "cell_type": "code",
      "source": [
        "I.data"
      ],
      "metadata": {
        "colab": {
          "base_uri": "https://localhost:8080/"
        },
        "id": "Zlgee0tthD_Y",
        "outputId": "5c7060c7-8a4a-4c5c-eef4-dc89a9484c5c"
      },
      "execution_count": null,
      "outputs": [
        {
          "output_type": "execute_result",
          "data": {
            "text/plain": [
              "array([1., 1., 1., 1.])"
            ]
          },
          "metadata": {},
          "execution_count": 54
        }
      ]
    },
    {
      "cell_type": "code",
      "source": [
        "I.todense()"
      ],
      "metadata": {
        "colab": {
          "base_uri": "https://localhost:8080/"
        },
        "id": "mO-_Y5eKhFZJ",
        "outputId": "60de3e90-4225-4731-cbaf-82393c7f5e36"
      },
      "execution_count": null,
      "outputs": [
        {
          "output_type": "execute_result",
          "data": {
            "text/plain": [
              "matrix([[1., 0., 0., 0., 0.],\n",
              "        [1., 0., 1., 0., 0.],\n",
              "        [0., 0., 1., 0., 0.]])"
            ]
          },
          "metadata": {},
          "execution_count": 55
        }
      ]
    },
    {
      "cell_type": "code",
      "source": [
        "A = nx.adjacency_matrix(G)"
      ],
      "metadata": {
        "id": "H36Oodtekuad"
      },
      "execution_count": null,
      "outputs": []
    },
    {
      "cell_type": "code",
      "source": [
        "A.todense()"
      ],
      "metadata": {
        "colab": {
          "base_uri": "https://localhost:8080/"
        },
        "id": "Mkfb3q6Bk5be",
        "outputId": "830aa054-7240-4e71-cd3a-ba30fa479746"
      },
      "execution_count": null,
      "outputs": [
        {
          "output_type": "execute_result",
          "data": {
            "text/plain": [
              "matrix([[9, 1, 0],\n",
              "        [1, 6, 5],\n",
              "        [0, 5, 3]])"
            ]
          },
          "metadata": {},
          "execution_count": 57
        }
      ]
    },
    {
      "cell_type": "code",
      "source": [
        "A.diagonal()"
      ],
      "metadata": {
        "colab": {
          "base_uri": "https://localhost:8080/"
        },
        "id": "tgepCdO9llvO",
        "outputId": "6a7d6fd6-3c1e-48c2-c583-18e21dd5cc95"
      },
      "execution_count": null,
      "outputs": [
        {
          "output_type": "execute_result",
          "data": {
            "text/plain": [
              "array([9, 6, 3])"
            ]
          },
          "metadata": {},
          "execution_count": 58
        }
      ]
    },
    {
      "cell_type": "code",
      "source": [
        "G = nx.DiGraph()\n",
        "G.add_edge(1, 2, weight = 1)\n",
        "G.add_edge(3, 2, weight = 5)\n",
        "G.add_edge(3, 1, weight = 10)\n",
        "#Adding it later\n",
        "#G.add_edge(3,3)\n",
        "nx.draw(G, cmap=plt.get_cmap('viridis'), node_color = G, with_labels=True,)\n",
        "print(nx.is_weighted(G))\n",
        "print(nx.is_directed(G))"
      ],
      "metadata": {
        "colab": {
          "base_uri": "https://localhost:8080/",
          "height": 354
        },
        "id": "7XPaLkF6hPps",
        "outputId": "7d20fa57-e1a1-413b-910a-ed7a764b1aaa"
      },
      "execution_count": null,
      "outputs": [
        {
          "output_type": "stream",
          "name": "stdout",
          "text": [
            "True\n",
            "True\n"
          ]
        },
        {
          "output_type": "display_data",
          "data": {
            "text/plain": [
              "<Figure size 432x288 with 1 Axes>"
            ],
            "image/png": "[encoded data removed]"
          },
          "metadata": {}
        }
      ]
    },
    {
      "cell_type": "code",
      "source": [
        "nx.to_numpy_matrix(G)"
      ],
      "metadata": {
        "colab": {
          "base_uri": "https://localhost:8080/"
        },
        "id": "Y55TYY6VitR7",
        "outputId": "83626318-86a0-46ec-ebb6-25811ed7e815"
      },
      "execution_count": null,
      "outputs": [
        {
          "output_type": "execute_result",
          "data": {
            "text/plain": [
              "matrix([[ 0.,  1.,  0.],\n",
              "        [ 0.,  0.,  0.],\n",
              "        [10.,  5.,  0.]])"
            ]
          },
          "metadata": {},
          "execution_count": 61
        }
      ]
    },
    {
      "cell_type": "code",
      "source": [
        "I = nx.incidence_matrix(G)"
      ],
      "metadata": {
        "id": "KEA9bWITl7vX"
      },
      "execution_count": null,
      "outputs": []
    },
    {
      "cell_type": "code",
      "source": [
        "I.data"
      ],
      "metadata": {
        "colab": {
          "base_uri": "https://localhost:8080/"
        },
        "id": "_l1EqQ29mGrE",
        "outputId": "2835fe8b-aa95-43d5-c3ed-810830543c38"
      },
      "execution_count": null,
      "outputs": [
        {
          "output_type": "execute_result",
          "data": {
            "text/plain": [
              "array([1., 1., 1., 1., 1., 1.])"
            ]
          },
          "metadata": {},
          "execution_count": 63
        }
      ]
    },
    {
      "cell_type": "code",
      "source": [
        "I.diagonal()"
      ],
      "metadata": {
        "colab": {
          "base_uri": "https://localhost:8080/"
        },
        "id": "_r96RvrQmIMV",
        "outputId": "b6d2e5d7-e0e7-47f2-eb10-4e8c572bf937"
      },
      "execution_count": null,
      "outputs": [
        {
          "output_type": "execute_result",
          "data": {
            "text/plain": [
              "array([1., 1., 1.])"
            ]
          },
          "metadata": {},
          "execution_count": 64
        }
      ]
    },
    {
      "cell_type": "code",
      "source": [
        "I.todense()"
      ],
      "metadata": {
        "colab": {
          "base_uri": "https://localhost:8080/"
        },
        "id": "TgSmDdiomLUs",
        "outputId": "16abcd54-e33b-4847-af52-9f5de3703f7c"
      },
      "execution_count": null,
      "outputs": [
        {
          "output_type": "execute_result",
          "data": {
            "text/plain": [
              "matrix([[1., 0., 1.],\n",
              "        [1., 1., 0.],\n",
              "        [0., 1., 1.]])"
            ]
          },
          "metadata": {},
          "execution_count": 65
        }
      ]
    },
    {
      "cell_type": "code",
      "source": [
        "A = nx.adjacency_matrix(G)"
      ],
      "metadata": {
        "id": "nVnrs0JpmOKM"
      },
      "execution_count": null,
      "outputs": []
    },
    {
      "cell_type": "code",
      "source": [
        "A.todense()"
      ],
      "metadata": {
        "colab": {
          "base_uri": "https://localhost:8080/"
        },
        "id": "HPNtv6s-mU0p",
        "outputId": "7497ffd8-a0c7-4852-d830-aad91ff311c8"
      },
      "execution_count": null,
      "outputs": [
        {
          "output_type": "execute_result",
          "data": {
            "text/plain": [
              "matrix([[ 0,  1,  0],\n",
              "        [ 0,  0,  0],\n",
              "        [10,  5,  0]])"
            ]
          },
          "metadata": {},
          "execution_count": 67
        }
      ]
    },
    {
      "cell_type": "code",
      "source": [
        "A.diagonal()"
      ],
      "metadata": {
        "colab": {
          "base_uri": "https://localhost:8080/"
        },
        "id": "bgrtYHd4mXPV",
        "outputId": "3f3903d4-00ea-45f6-9f27-f2d73d8b8d8f"
      },
      "execution_count": null,
      "outputs": [
        {
          "output_type": "execute_result",
          "data": {
            "text/plain": [
              "array([0, 0, 0])"
            ]
          },
          "metadata": {},
          "execution_count": 68
        }
      ]
    },
    {
      "cell_type": "code",
      "source": [
        "G = nx.Graph()\n",
        "G.add_edge(1, 2, weight = 1)\n",
        "G.add_edge(3, 2, weight = 5)\n",
        "#Adding it later\n",
        "G.add_edge(3,3, weight = 3)\n",
        "G.add_edge(2,2, weight = 6)\n",
        "G.add_edge(1,1, weight = 9)\n",
        "nx.draw(G, cmap=plt.get_cmap('viridis'), node_color=G, with_labels=True)\n",
        "print(nx.is_weighted(G))\n",
        "print(nx.is_directed(G))"
      ],
      "metadata": {
        "colab": {
          "base_uri": "https://localhost:8080/",
          "height": 354
        },
        "id": "EqjScyQMnyI0",
        "outputId": "8403981e-e8de-44f9-a85f-56c788dd1793"
      },
      "execution_count": null,
      "outputs": [
        {
          "output_type": "stream",
          "name": "stdout",
          "text": [
            "True\n",
            "False\n"
          ]
        },
        {
          "output_type": "display_data",
          "data": {
            "text/plain": [
              "<Figure size 432x288 with 1 Axes>"
            ],
            "image/png": "[encoded data removed]"
          },
          "metadata": {}
        }
      ]
    },
    {
      "cell_type": "code",
      "source": [
        "# Node: Try implementing_matrix with both directed and undirected graph\n",
        "L = nx.laplacian_matrix(G)"
      ],
      "metadata": {
        "id": "1jvWZgZKoECO"
      },
      "execution_count": null,
      "outputs": []
    },
    {
      "cell_type": "code",
      "source": [
        "L.data"
      ],
      "metadata": {
        "colab": {
          "base_uri": "https://localhost:8080/"
        },
        "id": "oRT-r3gboddp",
        "outputId": "3dc3f8f2-6998-478e-e9d6-ce5b4e19fb75"
      },
      "execution_count": null,
      "outputs": [
        {
          "output_type": "execute_result",
          "data": {
            "text/plain": [
              "array([ 1, -1, -1,  6, -5, -5,  5])"
            ]
          },
          "metadata": {},
          "execution_count": 71
        }
      ]
    },
    {
      "cell_type": "code",
      "source": [
        "L.todense()"
      ],
      "metadata": {
        "colab": {
          "base_uri": "https://localhost:8080/"
        },
        "id": "eYEAQtIXofpy",
        "outputId": "950f9658-ad31-43da-9040-2f9a29ab36dd"
      },
      "execution_count": null,
      "outputs": [
        {
          "output_type": "execute_result",
          "data": {
            "text/plain": [
              "matrix([[ 1, -1,  0],\n",
              "        [-1,  6, -5],\n",
              "        [ 0, -5,  5]])"
            ]
          },
          "metadata": {},
          "execution_count": 72
        }
      ]
    },
    {
      "cell_type": "code",
      "source": [
        "A = nx.adjacency_matrix(G)"
      ],
      "metadata": {
        "id": "4yn15Nk1okQP"
      },
      "execution_count": null,
      "outputs": []
    },
    {
      "cell_type": "code",
      "source": [
        "A.data"
      ],
      "metadata": {
        "colab": {
          "base_uri": "https://localhost:8080/"
        },
        "id": "L9DXrwokosGY",
        "outputId": "65973e03-babe-4987-c451-c43fbdd7a6d9"
      },
      "execution_count": null,
      "outputs": [
        {
          "output_type": "execute_result",
          "data": {
            "text/plain": [
              "array([9, 1, 1, 6, 5, 5, 3])"
            ]
          },
          "metadata": {},
          "execution_count": 75
        }
      ]
    },
    {
      "cell_type": "code",
      "source": [
        "A.shape"
      ],
      "metadata": {
        "colab": {
          "base_uri": "https://localhost:8080/"
        },
        "id": "oZTSIL1jo4LU",
        "outputId": "5ab26403-553b-4964-b503-7dda9b726262"
      },
      "execution_count": null,
      "outputs": [
        {
          "output_type": "execute_result",
          "data": {
            "text/plain": [
              "(3, 3)"
            ]
          },
          "metadata": {},
          "execution_count": 76
        }
      ]
    },
    {
      "cell_type": "code",
      "source": [
        "A.todense()"
      ],
      "metadata": {
        "colab": {
          "base_uri": "https://localhost:8080/"
        },
        "id": "xEGuKvNdo5sH",
        "outputId": "b1c424e6-a750-4107-cdd8-96d4035c4069"
      },
      "execution_count": null,
      "outputs": [
        {
          "output_type": "execute_result",
          "data": {
            "text/plain": [
              "matrix([[9, 1, 0],\n",
              "        [1, 6, 5],\n",
              "        [0, 5, 3]])"
            ]
          },
          "metadata": {},
          "execution_count": 77
        }
      ]
    },
    {
      "cell_type": "code",
      "source": [
        "A = nx.to_numpy_matrix(G)"
      ],
      "metadata": {
        "id": "kWCx0e_io-ed"
      },
      "execution_count": null,
      "outputs": []
    },
    {
      "cell_type": "code",
      "source": [
        "A"
      ],
      "metadata": {
        "colab": {
          "base_uri": "https://localhost:8080/"
        },
        "id": "tEK2F2-zpIib",
        "outputId": "fd33fd81-3b31-4d29-a8db-1124f39772e7"
      },
      "execution_count": null,
      "outputs": [
        {
          "output_type": "execute_result",
          "data": {
            "text/plain": [
              "matrix([[9., 1., 0.],\n",
              "        [1., 6., 5.],\n",
              "        [0., 5., 3.]])"
            ]
          },
          "metadata": {},
          "execution_count": 79
        }
      ]
    },
    {
      "cell_type": "code",
      "source": [
        "G.edges"
      ],
      "metadata": {
        "colab": {
          "base_uri": "https://localhost:8080/"
        },
        "id": "wmaV0mevpKAw",
        "outputId": "29509606-4ba3-4408-b34a-da0dcc2b7370"
      },
      "execution_count": null,
      "outputs": [
        {
          "output_type": "execute_result",
          "data": {
            "text/plain": [
              "EdgeView([(1, 2), (1, 1), (2, 3), (2, 2), (3, 3)])"
            ]
          },
          "metadata": {},
          "execution_count": 80
        }
      ]
    },
    {
      "cell_type": "code",
      "source": [
        "G.nodes"
      ],
      "metadata": {
        "colab": {
          "base_uri": "https://localhost:8080/"
        },
        "id": "9o8AOPmPpNG-",
        "outputId": "eb6895ef-3c63-4a58-aa2d-75ace139b3b0"
      },
      "execution_count": null,
      "outputs": [
        {
          "output_type": "execute_result",
          "data": {
            "text/plain": [
              "NodeView((1, 2, 3))"
            ]
          },
          "metadata": {},
          "execution_count": 81
        }
      ]
    },
    {
      "cell_type": "code",
      "source": [
        "#Graph Visulaization eith Node Classes"
      ],
      "metadata": {
        "id": "iaxlba9QpPIT"
      },
      "execution_count": null,
      "outputs": []
    },
    {
      "cell_type": "code",
      "source": [],
      "metadata": {
        "id": "_TtWn9zNp0Vr"
      },
      "execution_count": null,
      "outputs": []
    }
  ]
}